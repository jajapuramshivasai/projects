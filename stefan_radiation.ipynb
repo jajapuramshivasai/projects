{
  "nbformat": 4,
  "nbformat_minor": 0,
  "metadata": {
    "colab": {
      "provenance": [],
      "authorship_tag": "ABX9TyPD5if+totadELkSFck3znj",
      "include_colab_link": true
    },
    "kernelspec": {
      "name": "python3",
      "display_name": "Python 3"
    },
    "language_info": {
      "name": "python"
    }
  },
  "cells": [
    {
      "cell_type": "markdown",
      "metadata": {
        "id": "view-in-github",
        "colab_type": "text"
      },
      "source": [
        "<a href=\"https://colab.research.google.com/github/jajapuramshivasai/projects/blob/main/stefan_radiation.ipynb\" target=\"_parent\"><img src=\"https://colab.research.google.com/assets/colab-badge.svg\" alt=\"Open In Colab\"/></a>"
      ]
    },
    {
      "cell_type": "code",
      "execution_count": 20,
      "metadata": {
        "id": "7769CNDWbbo3"
      },
      "outputs": [],
      "source": [
        "import numpy as np\n",
        "\n",
        "# Create a list of numbers from the image\n",
        "V = [0.086, 1.082, 2.069, 3.080, 4.080, 5.090, 6.080, 7.060, 8.070, 9.090, 10.080, 11.08]\n",
        "\n"
      ]
    },
    {
      "cell_type": "code",
      "source": [
        "import numpy as np\n",
        "\n",
        "# Create a list of numbers from the image\n",
        "I = [0.102, 1.085, 1.525, 1.895, 2.209, 2.508, 2.775, 3.025, 3.251, 3.484, 3.719, 3.902]\n",
        "\n"
      ],
      "metadata": {
        "id": "O1KGXQF3bjJ4"
      },
      "execution_count": 21,
      "outputs": []
    },
    {
      "cell_type": "code",
      "source": [
        "\n",
        "\n",
        "# Create a list of numbers from the image\n",
        "p = [0.0, 0.0, 0.0, 0.3, 0.7, 1.2, 1.8, 2.4, 3.3, 4.3, 5.2, 6.0]\n"
      ],
      "metadata": {
        "id": "dXGPuB_rbqx9"
      },
      "execution_count": 22,
      "outputs": []
    },
    {
      "cell_type": "code",
      "source": [
        "len(v)"
      ],
      "metadata": {
        "colab": {
          "base_uri": "https://localhost:8080/"
        },
        "id": "brI4hLu8b4qT",
        "outputId": "3c828ba1-42b1-49c4-97d7-01752f91508d"
      },
      "execution_count": 23,
      "outputs": [
        {
          "output_type": "execute_result",
          "data": {
            "text/plain": [
              "12"
            ]
          },
          "metadata": {},
          "execution_count": 23
        }
      ]
    },
    {
      "cell_type": "code",
      "source": [
        "r = []\n",
        "\n",
        "for i in range(12):\n",
        "\n",
        "  r.append( V[i] / I[i] )"
      ],
      "metadata": {
        "id": "r7GFc5Ewbyfu"
      },
      "execution_count": 24,
      "outputs": []
    },
    {
      "cell_type": "code",
      "source": [
        "print(r)"
      ],
      "metadata": {
        "colab": {
          "base_uri": "https://localhost:8080/"
        },
        "id": "hewVp2nbcBcw",
        "outputId": "bb28584b-b7d8-4e3a-b5a2-61f4b755a740"
      },
      "execution_count": 25,
      "outputs": [
        {
          "output_type": "stream",
          "name": "stdout",
          "text": [
            "[0.8431372549019608, 0.9972350230414747, 1.35672131147541, 1.6253298153034301, 1.846989588048891, 2.029505582137161, 2.1909909909909913, 2.3338842975206613, 2.4823131344201785, 2.6090700344431688, 2.710406023124496, 2.839569451563301]\n"
          ]
        }
      ]
    },
    {
      "cell_type": "code",
      "source": [
        "# prompt: take natural log of r and natural log of p and plot them\n",
        "\n",
        "import matplotlib.pyplot as plt\n",
        "import numpy as np\n",
        "\n",
        "ln_r = np.log(r[3:])\n",
        "ln_p = np.log(p[3:])\n",
        "\n",
        "plt.plot(ln_r, ln_p)\n",
        "plt.xlabel(\"ln(r)\")\n",
        "plt.ylabel(\"ln(p)\")\n",
        "plt.title(\"Plot of ln(r) vs ln(p)\")\n",
        "plt.show()"
      ],
      "metadata": {
        "colab": {
          "base_uri": "https://localhost:8080/",
          "height": 472
        },
        "id": "vIKNM_gXdJQH",
        "outputId": "ca051e43-212f-4042-dfde-8742da683e4e"
      },
      "execution_count": 28,
      "outputs": [
        {
          "output_type": "display_data",
          "data": {
            "text/plain": [
              "<Figure size 640x480 with 1 Axes>"
            ],
            "image/png": "[encoded data removed]"
          },
          "metadata": {}
        }
      ]
    },
    {
      "cell_type": "code",
      "source": [
        "import numpy as np\n",
        "\n",
        "# Assuming ln_r and ln_p are defined from your previous code\n",
        "\n",
        "# Calculate the slope using linear regression\n",
        "slope, intercept = np.polyfit(ln_r, ln_p, 1)\n",
        "\n",
        "print(\"Slope:\", slope)"
      ],
      "metadata": {
        "colab": {
          "base_uri": "https://localhost:8080/"
        },
        "id": "jEzVyr_adcVa",
        "outputId": "7681e654-82e2-4ebd-bb91-47aedc097538"
      },
      "execution_count": 29,
      "outputs": [
        {
          "output_type": "stream",
          "name": "stdout",
          "text": [
            "Slope: 5.342751089754482\n"
          ]
        }
      ]
    },
    {
      "cell_type": "code",
      "source": [],
      "metadata": {
        "id": "E6ofcJBpdhy1"
      },
      "execution_count": null,
      "outputs": []
    }
  ]
}